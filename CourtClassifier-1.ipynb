{
 "cells": [
  {
   "cell_type": "code",
   "execution_count": null,
   "metadata": {},
   "outputs": [],
   "source": [
    "import pandas as pd\n",
    "import numpy as np\n",
    "from sklearn.model_selection import train_test_split"
   ]
  },
  {
   "cell_type": "code",
   "execution_count": null,
   "metadata": {},
   "outputs": [],
   "source": [
    "# using pandas get dummies method to turn caticorgical data to numeric and create x & y\n",
    "stevens = pd.read_csv('/Users/michaelcolellajensen/Desktop/Data Sets/Stevens.csv')\n",
    "stevens_binary = pd.get_dummies(\n",
    "    stevens[['Circuit', 'Issue', 'Petitioner', 'Respondent', 'LowerCourt', 'Unconst']],\n",
    "    drop_first=True\n",
    "    )\n",
    "\n",
    "x=stevens_binary.values\n",
    "y=stevens['Reverse'].values\n",
    "\n",
    "x_train, x_test, y_train, y_test = train_test_split(x, y, test_size=.2, random_state=123)"
   ]
  },
  {
   "cell_type": "code",
   "execution_count": null,
   "metadata": {},
   "outputs": [],
   "source": [
    "from sklearn.tree import DecisionTreeClassifier\n",
    "from sklearn.metrics import accuracy_score\n",
    "from sklearn.metrics import confusion_matrix\n",
    "from sklearn.metrics import roc_auc_score\n",
    "from sklearn.model_selection import GridSearchCV"
   ]
  },
  {
   "cell_type": "code",
   "execution_count": null,
   "metadata": {},
   "outputs": [],
   "source": [
    "# building a DecisionTreeClassifier untuned\n",
    "dt_model = DecisionTreeClassifier(max_depth=4, random_state=123, criterion='gini')\n",
    "dt_model.fit(x_train, y_train)\n",
    "dt_predictions = dt_model.predict(x_test)\n",
    "dt_proba = dt_model.predict_proba(x_test)[:,1]\n",
    "\n",
    "dt_accuracy = accuracy_score(y_test, dt_predictions)\n",
    "print(\"Decision Tree Accuracy:{:.3f}\".format(dt_accuracy))\n",
    "dt_roc = roc_auc_score(y_test, dt_proba)\n",
    "print(\"Decision Tree AUC score:{:.3f}\".format(dt_roc))\n",
    "\n",
    "dt_matrix = confusion_matrix(y_test, dt_predictions)\n",
    "print('Confusion Matrix\\n', dt_matrix)"
   ]
  },
  {
   "cell_type": "code",
   "execution_count": null,
   "metadata": {},
   "outputs": [],
   "source": [
    "# building a tuned DecisionTreeClassifier\n",
    "dt_params = {\n",
    "    'max_depth':[2,3,4],\n",
    "    'min_samples_leaf': [0.05, 0.09, 0.13],\n",
    "    'max_features': [0.2, 0.4, 0.6, 0.8],\n",
    "    }\n",
    "grid_dt = GridSearchCV(\n",
    "    estimator=dt_model, \n",
    "    param_grid = dt_params,\n",
    "    scoring = 'accuracy',\n",
    "    cv=5 \n",
    "    )\n",
    "grid_dt.fit(x_train, y_train)\n",
    "dt_best_params = grid_dt.best_params_\n",
    "print('Best hyperparamerters:\\n', dt_best_params)\n",
    "\n",
    "best_dt_model = grid_dt.best_estimator_\n",
    "best_dt_model_predictions = best_dt_model.predict(x_test)\n",
    "best_dt_proba = best_dt_model.predict_proba(x_test)[:,1]\n",
    "best_dt_auc = roc_auc_score(y_test, best_dt_proba)\n",
    "best_dt_accuracy = accuracy_score(y_test, best_dt_model_predictions)\n",
    "print('Best Decision Tree Accuracy:{:.3f}'.format(best_dt_accuracy))\n",
    "print('Best Decision Tree AUC Score:{:.3f}'.format(best_dt_auc))\n",
    "\n",
    "best_dt_matrix = confusion_matrix(y_test, best_dt_model_predictions)\n",
    "print('Best Decision Tree Matrix:\\n', best_dt_matrix)\n"
   ]
  },
  {
   "cell_type": "code",
   "execution_count": null,
   "metadata": {},
   "outputs": [],
   "source": [
    "# building an untuned RandomForestClassifier\n",
    "from sklearn.ensemble import RandomForestClassifier\n",
    "\n",
    "rf_model = RandomForestClassifier(\n",
    "    n_estimators=100, \n",
    "    max_depth = 6, \n",
    "    min_samples_leaf = 0.1, \n",
    "    random_state = 123\n",
    "    )\n",
    "\n",
    "rf_model.fit(x_train, y_train)\n",
    "rf_predictions = rf_model.predict(x_test)\n",
    "rf_proba = rf_model.predict_log_proba(x_test)[:,1]\n",
    "\n",
    "rf_accuracy = accuracy_score(y_test, rf_predictions)\n",
    "print('Random Forest Accuracy:{:.3f}'.format(rf_accuracy))\n",
    "\n",
    "rf_auc = roc_auc_score(y_test, rf_proba)\n",
    "print('Random Forest AUC Score:{:.3f}'.format(rf_auc))\n",
    "\n",
    "rf_matrix = confusion_matrix(y_test, rf_predictions)\n",
    "print('Random Forest Confusion Matrix:\\n', rf_matrix)"
   ]
  },
  {
   "cell_type": "code",
   "execution_count": null,
   "metadata": {},
   "outputs": [],
   "source": [
    "# building a RandomForestClassifier with tuning\n",
    "rf_params = {\n",
    "    'n_estimators':[90, 100, 110],\n",
    "    'max_depth': [3, 4, 5], \n",
    "    'max_features': ['sqrt', 'auto'],\n",
    "    'min_samples_leaf': [0.06, 0.07, 0.08]\n",
    "    }\n",
    "rf_grid = GridSearchCV(\n",
    "    estimator=rf_model,\n",
    "    param_grid = rf_params,\n",
    "    cv=5,\n",
    "    scoring = 'accuracy',\n",
    "    verbose = 1,\n",
    "    n_jobs = -1\n",
    "    )\n",
    "rf_grid.fit(x_train, y_train)\n",
    "best_rf_params = rf_grid.best_params_\n",
    "print('Best Random Forest Hyperparamers:\\n',(best_rf_params))\n",
    "\n",
    "best_rf_model = rf_grid.best_estimator_\n",
    "best_rf_predictions = best_rf_model.predict(x_test)\n",
    "best_rf_proba = best_rf_model.predict_proba(x_test)[:,1]\n",
    "best_rf_accuracy = accuracy_score(y_test, best_rf_predictions)\n",
    "best_rf_auc = roc_auc_score(y_test, best_rf_proba)\n",
    "\n",
    "print('Best Random Forest Accuracy:{:.3f}'.format(best_rf_accuracy))\n",
    "print('Best Random Forest AUC Score:{:.3f}'.format(best_rf_auc))\n",
    "\n",
    "best_rf_matrix = confusion_matrix(y_test, best_rf_predictions)\n",
    "print('Best Random Forest Confusion Matrix:\\n', best_rf_matrix)\n"
   ]
  }
 ],
 "metadata": {
  "interpreter": {
   "hash": "31f2aee4e71d21fbe5cf8b01ff0e069b9275f58929596ceb00d14d90e3e16cd6"
  },
  "kernelspec": {
   "display_name": "Python 3.8.9 64-bit",
   "language": "python",
   "name": "python3"
  },
  "language_info": {
   "codemirror_mode": {
    "name": "ipython",
    "version": 3
   },
   "file_extension": ".py",
   "mimetype": "text/x-python",
   "name": "python",
   "nbconvert_exporter": "python",
   "pygments_lexer": "ipython3",
   "version": "3.8.9"
  },
  "orig_nbformat": 4
 },
 "nbformat": 4,
 "nbformat_minor": 2
}
