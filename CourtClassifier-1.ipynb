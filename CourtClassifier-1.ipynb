{
 "cells": [
  {
   "cell_type": "code",
   "execution_count": 16,
   "metadata": {},
   "outputs": [],
   "source": [
    "import pandas as pd\n",
    "import numpy as np\n",
    "from sklearn.model_selection import train_test_split"
   ]
  },
  {
   "cell_type": "code",
   "execution_count": 52,
   "metadata": {},
   "outputs": [
    {
     "name": "stdout",
     "output_type": "stream",
     "text": [
      "<class 'pandas.core.frame.DataFrame'>\n",
      "RangeIndex: 566 entries, 0 to 565\n",
      "Data columns (total 46 columns):\n",
      " #   Column                                  Non-Null Count  Dtype\n",
      "---  ------                                  --------------  -----\n",
      " 0   Unconst                                 566 non-null    int64\n",
      " 1   Circuit_11th                            566 non-null    uint8\n",
      " 2   Circuit_1st                             566 non-null    uint8\n",
      " 3   Circuit_2nd                             566 non-null    uint8\n",
      " 4   Circuit_3rd                             566 non-null    uint8\n",
      " 5   Circuit_4th                             566 non-null    uint8\n",
      " 6   Circuit_5th                             566 non-null    uint8\n",
      " 7   Circuit_6th                             566 non-null    uint8\n",
      " 8   Circuit_7th                             566 non-null    uint8\n",
      " 9   Circuit_8th                             566 non-null    uint8\n",
      " 10  Circuit_9th                             566 non-null    uint8\n",
      " 11  Circuit_DC                              566 non-null    uint8\n",
      " 12  Circuit_FED                             566 non-null    uint8\n",
      " 13  Issue_CivilRights                       566 non-null    uint8\n",
      " 14  Issue_CriminalProcedure                 566 non-null    uint8\n",
      " 15  Issue_DueProcess                        566 non-null    uint8\n",
      " 16  Issue_EconomicActivity                  566 non-null    uint8\n",
      " 17  Issue_FederalTaxation                   566 non-null    uint8\n",
      " 18  Issue_FederalismAndInterstateRelations  566 non-null    uint8\n",
      " 19  Issue_FirstAmendment                    566 non-null    uint8\n",
      " 20  Issue_JudicialPower                     566 non-null    uint8\n",
      " 21  Issue_Privacy                           566 non-null    uint8\n",
      " 22  Issue_Unions                            566 non-null    uint8\n",
      " 23  Petitioner_BUSINESS                     566 non-null    uint8\n",
      " 24  Petitioner_CITY                         566 non-null    uint8\n",
      " 25  Petitioner_CRIMINAL.DEFENDENT           566 non-null    uint8\n",
      " 26  Petitioner_EMPLOYEE                     566 non-null    uint8\n",
      " 27  Petitioner_EMPLOYER                     566 non-null    uint8\n",
      " 28  Petitioner_GOVERNMENT.OFFICIAL          566 non-null    uint8\n",
      " 29  Petitioner_INJURED.PERSON               566 non-null    uint8\n",
      " 30  Petitioner_OTHER                        566 non-null    uint8\n",
      " 31  Petitioner_POLITICIAN                   566 non-null    uint8\n",
      " 32  Petitioner_STATE                        566 non-null    uint8\n",
      " 33  Petitioner_US                           566 non-null    uint8\n",
      " 34  Respondent_BUSINESS                     566 non-null    uint8\n",
      " 35  Respondent_CITY                         566 non-null    uint8\n",
      " 36  Respondent_CRIMINAL.DEFENDENT           566 non-null    uint8\n",
      " 37  Respondent_EMPLOYEE                     566 non-null    uint8\n",
      " 38  Respondent_EMPLOYER                     566 non-null    uint8\n",
      " 39  Respondent_GOVERNMENT.OFFICIAL          566 non-null    uint8\n",
      " 40  Respondent_INJURED.PERSON               566 non-null    uint8\n",
      " 41  Respondent_OTHER                        566 non-null    uint8\n",
      " 42  Respondent_POLITICIAN                   566 non-null    uint8\n",
      " 43  Respondent_STATE                        566 non-null    uint8\n",
      " 44  Respondent_US                           566 non-null    uint8\n",
      " 45  LowerCourt_liberal                      566 non-null    uint8\n",
      "dtypes: int64(1), uint8(45)\n",
      "memory usage: 29.4 KB\n",
      "None\n"
     ]
    }
   ],
   "source": [
    "# using pandas get dummies method to turn caticorgical data to numeric and create x & y\n",
    "stevens = pd.read_csv('/Users/michaelcolellajensen/Desktop/Data Sets/Stevens.csv')\n",
    "stevens_binary = pd.get_dummies(stevens[['Circuit', 'Issue', 'Petitioner', 'Respondent', 'LowerCourt', 'Unconst']], \n",
    "drop_first=True)\n",
    "\n",
    "x=stevens_binary.values\n",
    "y=stevens['Reverse'].values\n",
    "\n",
    "x_train, x_test, y_train, y_test = train_test_split(x, y, test_size=.2, random_state=123)"
   ]
  },
  {
   "cell_type": "code",
   "execution_count": 44,
   "metadata": {},
   "outputs": [],
   "source": [
    "from sklearn.tree import DecisionTreeClassifier\n",
    "from sklearn.metrics import accuracy_score\n",
    "from sklearn.metrics import confusion_matrix\n",
    "from sklearn.metrics import roc_auc_score\n",
    "from sklearn.model_selection import GridSearchCV"
   ]
  },
  {
   "cell_type": "code",
   "execution_count": 64,
   "metadata": {},
   "outputs": [
    {
     "name": "stdout",
     "output_type": "stream",
     "text": [
      "Decision Tree Accuracy:0.675\n",
      "Decision Tree AUC score:0.727\n",
      "Confusion Matrix\n",
      " [[25 25]\n",
      " [12 52]]\n"
     ]
    }
   ],
   "source": [
    "# building a DecisionTreeClassifier untuned\n",
    "dt_model = DecisionTreeClassifier(max_depth=4, random_state=123, criterion='gini')\n",
    "dt_model.fit(x_train, y_train)\n",
    "dt_predictions = dt_model.predict(x_test)\n",
    "dt_proba = dt_model.predict_proba(x_test)[:,1]\n",
    "\n",
    "dt_accuracy = accuracy_score(y_test, dt_predictions)\n",
    "print(\"Decision Tree Accuracy:{:.3f}\".format(dt_accuracy))\n",
    "dt_roc = roc_auc_score(y_test, dt_proba)\n",
    "print(\"Decision Tree AUC score:{:.3f}\".format(dt_roc))\n",
    "\n",
    "dt_matrix = confusion_matrix(y_test, dt_predictions)\n",
    "print('Confusion Matrix\\n', dt_matrix)"
   ]
  },
  {
   "cell_type": "code",
   "execution_count": 92,
   "metadata": {},
   "outputs": [
    {
     "name": "stdout",
     "output_type": "stream",
     "text": [
      "Best hyperparamerters:\n",
      " {'max_depth': 2, 'max_features': 0.2, 'min_samples_leaf': 0.13}\n",
      "Best Decision Tree Accuracy:0.728\n",
      "Best Decision Tree AUC Score:0.700\n",
      "Best Decision Tree Matrix:\n",
      " [[32 18]\n",
      " [13 51]]\n"
     ]
    }
   ],
   "source": [
    "# building a tuned DecisionTreeClassifier\n",
    "dt_params = {'max_depth':[2,3,4],\n",
    "    'min_samples_leaf': [0.05, 0.09, 0.13],\n",
    "    'max_features': [0.2, 0.4, 0.6, 0.8],\n",
    "    }\n",
    "grid_dt = GridSearchCV(estimator=dt_model, \n",
    "    param_grid = dt_params,\n",
    "    scoring = 'accuracy',\n",
    "    cv=5 \n",
    "    )\n",
    "grid_dt.fit(x_train, y_train)\n",
    "dt_best_params = grid_dt.best_params_\n",
    "print('Best hyperparamerters:\\n', dt_best_params)\n",
    "\n",
    "best_dt_model = grid_dt.best_estimator_\n",
    "best_dt_model_predictions = best_dt_model.predict(x_test)\n",
    "best_dt_proba = best_dt_model.predict_proba(x_test)[:,1]\n",
    "best_dt_auc = roc_auc_score(y_test, best_dt_proba)\n",
    "best_dt_accuracy = accuracy_score(y_test, best_dt_model_predictions)\n",
    "print('Best Decision Tree Accuracy:{:.3f}'.format(best_dt_accuracy))\n",
    "print('Best Decision Tree AUC Score:{:.3f}'.format(best_dt_auc))\n",
    "\n",
    "best_dt_matrix = confusion_matrix(y_test, best_dt_model_predictions)\n",
    "print('Best Decision Tree Matrix:\\n', best_dt_matrix)\n"
   ]
  },
  {
   "cell_type": "code",
   "execution_count": 78,
   "metadata": {},
   "outputs": [
    {
     "name": "stdout",
     "output_type": "stream",
     "text": [
      "Random Forest Accuracy:0.596\n",
      "Random Forest AUC Score:0.706\n",
      "Random Forest Confusion Matrix:\n",
      " [[ 6 44]\n",
      " [ 2 62]]\n"
     ]
    }
   ],
   "source": [
    "# building an untuned RandomForestClassifier\n",
    "from sklearn.ensemble import RandomForestClassifier\n",
    "\n",
    "rf_model = RandomForestClassifier(n_estimators=100, \n",
    "    max_depth = 6, \n",
    "    min_samples_leaf = 0.1, \n",
    "    random_state = 123)\n",
    "\n",
    "rf_model.fit(x_train, y_train)\n",
    "rf_predictions = rf_model.predict(x_test)\n",
    "rf_proba = rf_model.predict_log_proba(x_test)[:,1]\n",
    "\n",
    "rf_accuracy = accuracy_score(y_test, rf_predictions)\n",
    "print('Random Forest Accuracy:{:.3f}'.format(rf_accuracy))\n",
    "\n",
    "rf_auc = roc_auc_score(y_test, rf_proba)\n",
    "print('Random Forest AUC Score:{:.3f}'.format(rf_auc))\n",
    "\n",
    "rf_matrix = confusion_matrix(y_test, rf_predictions)\n",
    "print('Random Forest Confusion Matrix:\\n', rf_matrix)"
   ]
  },
  {
   "cell_type": "code",
   "execution_count": 90,
   "metadata": {},
   "outputs": [
    {
     "name": "stdout",
     "output_type": "stream",
     "text": [
      "{'bootstrap': True, 'ccp_alpha': 0.0, 'class_weight': None, 'criterion': 'gini', 'max_depth': 6, 'max_features': 'auto', 'max_leaf_nodes': None, 'max_samples': None, 'min_impurity_decrease': 0.0, 'min_samples_leaf': 0.1, 'min_samples_split': 2, 'min_weight_fraction_leaf': 0.0, 'n_estimators': 100, 'n_jobs': None, 'oob_score': False, 'random_state': 123, 'verbose': 0, 'warm_start': False}\n",
      "Fitting 5 folds for each of 54 candidates, totalling 270 fits\n",
      "Best Random Forest Hyperparamers:\n",
      " {'max_depth': 4, 'max_features': 'sqrt', 'min_samples_leaf': 0.07, 'n_estimators': 100}\n",
      "Best Random Forest Accuracy:0.693\n",
      "Best Random Forest AUC Score:0.725\n",
      "Best Random Forest Confusion Matrix:\n",
      " [[21 29]\n",
      " [ 6 58]]\n"
     ]
    }
   ],
   "source": [
    "# building a RandomForestClassifier with tuning\n",
    "print(rf_model.get_params())\n",
    "rf_params = {\n",
    "    'n_estimators':[90, 100, 110],\n",
    "    'max_depth': [3, 4, 5], \n",
    "    'max_features': ['sqrt', 'auto'],\n",
    "    'min_samples_leaf': [0.06, 0.07, 0.08]\n",
    "    }\n",
    "rf_grid = GridSearchCV(estimator=rf_model,\n",
    "    param_grid = rf_params,\n",
    "    cv=5,\n",
    "    scoring = 'accuracy',\n",
    "    verbose = 1,\n",
    "    n_jobs = -1)\n",
    "rf_grid.fit(x_train, y_train)\n",
    "best_rf_params = rf_grid.best_params_\n",
    "print('Best Random Forest Hyperparamers:\\n',(best_rf_params))\n",
    "\n",
    "best_rf_model = rf_grid.best_estimator_\n",
    "best_rf_predictions = best_rf_model.predict(x_test)\n",
    "best_rf_proba = best_rf_model.predict_proba(x_test)[:,1]\n",
    "best_rf_accuracy = accuracy_score(y_test, best_rf_predictions)\n",
    "best_rf_auc = roc_auc_score(y_test, best_rf_proba)\n",
    "\n",
    "print('Best Random Forest Accuracy:{:.3f}'.format(best_rf_accuracy))\n",
    "print('Best Random Forest AUC Score:{:.3f}'.format(best_rf_auc))\n",
    "\n",
    "best_rf_matrix = confusion_matrix(y_test, best_rf_predictions)\n",
    "print('Best Random Forest Confusion Matrix:\\n', best_rf_matrix)\n"
   ]
  }
 ],
 "metadata": {
  "interpreter": {
   "hash": "31f2aee4e71d21fbe5cf8b01ff0e069b9275f58929596ceb00d14d90e3e16cd6"
  },
  "kernelspec": {
   "display_name": "Python 3.8.9 64-bit",
   "language": "python",
   "name": "python3"
  },
  "language_info": {
   "codemirror_mode": {
    "name": "ipython",
    "version": 3
   },
   "file_extension": ".py",
   "mimetype": "text/x-python",
   "name": "python",
   "nbconvert_exporter": "python",
   "pygments_lexer": "ipython3",
   "version": "3.8.9"
  },
  "orig_nbformat": 4
 },
 "nbformat": 4,
 "nbformat_minor": 2
}
